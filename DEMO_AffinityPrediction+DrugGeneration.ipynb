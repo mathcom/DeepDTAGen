{
 "cells": [
  {
   "cell_type": "code",
   "execution_count": 1,
   "id": "8a8ca54a",
   "metadata": {},
   "outputs": [],
   "source": [
    "import torch\n",
    "import pickle\n",
    "import pandas as pd\n",
    "from tqdm import tqdm\n",
    "from torch.utils.data import DataLoader\n",
    "from deepdtagen.demo.demo_utils import *\n",
    "from deepdtagen.demo.model_aff import DeepDTAGen"
   ]
  },
  {
   "cell_type": "markdown",
   "id": "371db699",
   "metadata": {},
   "source": [
    "# 1. Environments"
   ]
  },
  {
   "cell_type": "code",
   "execution_count": 2,
   "id": "aa593d59",
   "metadata": {},
   "outputs": [],
   "source": [
    "dataset_name = 'bindingdb'"
   ]
  },
  {
   "cell_type": "markdown",
   "id": "bc84dc03",
   "metadata": {},
   "source": [
    "## Setup device"
   ]
  },
  {
   "cell_type": "code",
   "execution_count": 3,
   "id": "c66d7525",
   "metadata": {},
   "outputs": [],
   "source": [
    "#device = torch.device('cuda' if torch.cuda.is_available() else 'cpu')\n",
    "device = torch.device('cpu')"
   ]
  },
  {
   "cell_type": "markdown",
   "id": "f987f931",
   "metadata": {},
   "source": [
    "## Paths"
   ]
  },
  {
   "cell_type": "code",
   "execution_count": 4,
   "id": "7c96547b",
   "metadata": {},
   "outputs": [],
   "source": [
    "filepath_model = os.path.join('models', f'deepdtagen_model_{dataset_name}.pth')\n",
    "filepath_tokenizer = os.path.join('data', f'{dataset_name}_tokenizer.pkl')"
   ]
  },
  {
   "cell_type": "markdown",
   "id": "e502ad08",
   "metadata": {},
   "source": [
    "## Load Tokenizer"
   ]
  },
  {
   "cell_type": "code",
   "execution_count": 5,
   "id": "e075c573",
   "metadata": {},
   "outputs": [],
   "source": [
    "with open(filepath_tokenizer, 'rb') as f:\n",
    "    tokenizer = pickle.load(f)"
   ]
  },
  {
   "cell_type": "code",
   "execution_count": 6,
   "id": "19361671",
   "metadata": {},
   "outputs": [
    {
     "name": "stdout",
     "output_type": "stream",
     "text": [
      "107\n"
     ]
    }
   ],
   "source": [
    "print(len(tokenizer))"
   ]
  },
  {
   "cell_type": "markdown",
   "id": "cd72ea7b",
   "metadata": {},
   "source": [
    "## Load Model"
   ]
  },
  {
   "cell_type": "code",
   "execution_count": 7,
   "id": "b83ce506",
   "metadata": {},
   "outputs": [],
   "source": [
    "model = DeepDTAGen(tokenizer)"
   ]
  },
  {
   "cell_type": "code",
   "execution_count": 8,
   "id": "e02cdf10",
   "metadata": {},
   "outputs": [
    {
     "data": {
      "text/plain": [
       "<All keys matched successfully>"
      ]
     },
     "execution_count": 8,
     "metadata": {},
     "output_type": "execute_result"
    }
   ],
   "source": [
    "model.load_state_dict(torch.load(filepath_model, map_location=device))"
   ]
  },
  {
   "cell_type": "code",
   "execution_count": 9,
   "id": "54d13969",
   "metadata": {},
   "outputs": [],
   "source": [
    "_ = model.to(device)"
   ]
  },
  {
   "cell_type": "code",
   "execution_count": 10,
   "id": "9eaf3e1d",
   "metadata": {},
   "outputs": [],
   "source": [
    "_ = model.eval()"
   ]
  },
  {
   "cell_type": "markdown",
   "id": "bdffb430",
   "metadata": {},
   "source": [
    "## Test Data"
   ]
  },
  {
   "cell_type": "code",
   "execution_count": 11,
   "id": "922b0958",
   "metadata": {},
   "outputs": [],
   "source": [
    "seqs_smi = [\n",
    "    \"CC1=CC[C@@H]2[C@@H](C1)C3=C(C=C(C=C3OC2(C)C)C(C)(C)CCCCCCBr)O\",\n",
    "    \"CCCCCCC(C)(C)C1=CC(=C2[C@@H]3C[C@@H](CC[C@H]3[C@](OC2=C1)(C)/C=C/CO)CO)O\",\n",
    "    \"CCCCCN1C=C(C2=CC=CC=C21)C(=O)C3C(C3(C)C)(C)C\",\n",
    "    \"CC1=C(C2=C3N1[C@@H](COC3=CC=C2)CN4CCOCC4)C(=O)C5=CC=CC6=CC=CC=C65\",\n",
    "    \"CCCCCC1=CC(=C2[C@@H]3C=C(CC[C@H]3C(OC2=C1)(C)C)C)O\",\n",
    "    \"C[C@@H]([C@@H](CC1=CC=C(C=C1)Cl)C2=CC=CC(=C2)C#N)NC(=O)C(C)(C)OC3=NC=C(C=C3)C(F)(F)F\",\n",
    "    \"CC1=C(N(N=C1C(=O)NN2CCCCC2)C3=C(C=C(C=C3)Cl)Cl)C4=CC=C(C=C4)I\",\n",
    "    \"CCC1=C(N(N=C1C(=O)NN2CCCCC2)C3=C(C=C(C=C3)Cl)Cl)C4=CC=C(C=C4)Br\",\n",
    "    \"CC1=C(C2=C(N1CCN3CCOCC3)C=C(C=C2)I)C(=O)C4=CC=C(C=C4)OC\",\n",
    "    \"CC1=CC=C(C=C1)CN2C(=CC(=N2)C(=O)N[C@H]3[C@]4(CC[C@H](C4)C3(C)C)C)C5=CC(=C(C=C5)Cl)C\",\n",
    "    \"CC1=C(N(N=C1C(=O)NC23CC4CC(C2)CC(C4)C3)CCCCCO)C5=CC=CC=C5\",\n",
    "    \"CCCCCC1=CC(=C(C(=C1)O)[C@@H]2C=C(CC[C@H]2C(=C)C)C)O\",\n",
    "]"
   ]
  },
  {
   "cell_type": "code",
   "execution_count": 12,
   "id": "f3118264",
   "metadata": {},
   "outputs": [],
   "source": [
    "seqs_prot = [\n",
    "    \"MKSILDGLADTTFRTITTDLLYVGSNDIQYEDIKGDMASKLGYFPQKFPLTSFRGSPFQEKMTAGDNPQLVPADQVNITEFYNKSLSSFKENEENIQCGENFMDIECFMVLNPSQQLAIAVLSLTLGTFTVLENLLVLCVILHSRSLRCRPSYHFIGSLAVADLLGSVIFVYSFIDFHVFHRKDSRNVFLFKLGGVTASFTASVGSLFLTAIDRYISIHRPLAYKRIVTRPKAVVAFCLMWTIAIVIAVLPLLGWNCEKLQSVCSDIFPHIDETYLMFWIGVTSVLLLFIVYAYMYILWKAHSHAVRMIQRGTQKSIIIHTSEDGKVQVTRPDQARMDIRLAKTLVLILVVLIICWGPLLAIMVYDVFGKMNKLIKTVFAFCSMLCLLNSTVNPIIYALRSKDLRHAFRSMFPSCEGTAQPLDNSMGDSDCLHKHANNAASVHRAAESCIKSTVKIAKVTMSVSTDTSAEAL\",\n",
    "    \"MEECWVTEIANGSKDGLDSNPMKDYMILSGPQKTAVAVLCTLLGLLSALENVAVLYLILSSHQLRRKPSYLFIGSLAGADFLASVVFACSFVNFHVFHGVDSKAVFLLKIGSVTMTFTASVGSLLLTAIDRYLCLRYPPSYKALLTRGRALVTLGIMWVLSALVSYLPLMGWTCCPRPCSELFPLIPNDYLLSWLLFIAFLFSGIIYTYGHVLWKAHQHVASLSGHQDRQVPGMARMRLDVRLAKTLGLVLAVLLICWFPVLALMAHSLATTLSDQVKKAFAFCSMLCLINSMVNPVIYALRSGEIRSSAHHCLAHWKKCVRGLGSEAKEEAPRSSVTETEADGKITPWPDSRDLDLSDC\",    \n",
    "]"
   ]
  },
  {
   "cell_type": "code",
   "execution_count": 13,
   "id": "bbb9eafb",
   "metadata": {},
   "outputs": [],
   "source": [
    "df_inputs = pd.DataFrame(\n",
    "    [{'SMILES':x, 'TARGET':y} for y in seqs_prot for x in seqs_smi]\n",
    ")"
   ]
  },
  {
   "cell_type": "code",
   "execution_count": 14,
   "id": "70452385",
   "metadata": {},
   "outputs": [
    {
     "data": {
      "text/html": [
       "<div>\n",
       "<style scoped>\n",
       "    .dataframe tbody tr th:only-of-type {\n",
       "        vertical-align: middle;\n",
       "    }\n",
       "\n",
       "    .dataframe tbody tr th {\n",
       "        vertical-align: top;\n",
       "    }\n",
       "\n",
       "    .dataframe thead th {\n",
       "        text-align: right;\n",
       "    }\n",
       "</style>\n",
       "<table border=\"1\" class=\"dataframe\">\n",
       "  <thead>\n",
       "    <tr style=\"text-align: right;\">\n",
       "      <th></th>\n",
       "      <th>SMILES</th>\n",
       "      <th>TARGET</th>\n",
       "    </tr>\n",
       "  </thead>\n",
       "  <tbody>\n",
       "    <tr>\n",
       "      <th>0</th>\n",
       "      <td>CC1=CC[C@@H]2[C@@H](C1)C3=C(C=C(C=C3OC2(C)C)C(...</td>\n",
       "      <td>MKSILDGLADTTFRTITTDLLYVGSNDIQYEDIKGDMASKLGYFPQ...</td>\n",
       "    </tr>\n",
       "    <tr>\n",
       "      <th>1</th>\n",
       "      <td>CCCCCCC(C)(C)C1=CC(=C2[C@@H]3C[C@@H](CC[C@H]3[...</td>\n",
       "      <td>MKSILDGLADTTFRTITTDLLYVGSNDIQYEDIKGDMASKLGYFPQ...</td>\n",
       "    </tr>\n",
       "    <tr>\n",
       "      <th>2</th>\n",
       "      <td>CCCCCN1C=C(C2=CC=CC=C21)C(=O)C3C(C3(C)C)(C)C</td>\n",
       "      <td>MKSILDGLADTTFRTITTDLLYVGSNDIQYEDIKGDMASKLGYFPQ...</td>\n",
       "    </tr>\n",
       "    <tr>\n",
       "      <th>3</th>\n",
       "      <td>CC1=C(C2=C3N1[C@@H](COC3=CC=C2)CN4CCOCC4)C(=O)...</td>\n",
       "      <td>MKSILDGLADTTFRTITTDLLYVGSNDIQYEDIKGDMASKLGYFPQ...</td>\n",
       "    </tr>\n",
       "    <tr>\n",
       "      <th>4</th>\n",
       "      <td>CCCCCC1=CC(=C2[C@@H]3C=C(CC[C@H]3C(OC2=C1)(C)C...</td>\n",
       "      <td>MKSILDGLADTTFRTITTDLLYVGSNDIQYEDIKGDMASKLGYFPQ...</td>\n",
       "    </tr>\n",
       "    <tr>\n",
       "      <th>5</th>\n",
       "      <td>C[C@@H]([C@@H](CC1=CC=C(C=C1)Cl)C2=CC=CC(=C2)C...</td>\n",
       "      <td>MKSILDGLADTTFRTITTDLLYVGSNDIQYEDIKGDMASKLGYFPQ...</td>\n",
       "    </tr>\n",
       "    <tr>\n",
       "      <th>6</th>\n",
       "      <td>CC1=C(N(N=C1C(=O)NN2CCCCC2)C3=C(C=C(C=C3)Cl)Cl...</td>\n",
       "      <td>MKSILDGLADTTFRTITTDLLYVGSNDIQYEDIKGDMASKLGYFPQ...</td>\n",
       "    </tr>\n",
       "    <tr>\n",
       "      <th>7</th>\n",
       "      <td>CCC1=C(N(N=C1C(=O)NN2CCCCC2)C3=C(C=C(C=C3)Cl)C...</td>\n",
       "      <td>MKSILDGLADTTFRTITTDLLYVGSNDIQYEDIKGDMASKLGYFPQ...</td>\n",
       "    </tr>\n",
       "    <tr>\n",
       "      <th>8</th>\n",
       "      <td>CC1=C(C2=C(N1CCN3CCOCC3)C=C(C=C2)I)C(=O)C4=CC=...</td>\n",
       "      <td>MKSILDGLADTTFRTITTDLLYVGSNDIQYEDIKGDMASKLGYFPQ...</td>\n",
       "    </tr>\n",
       "    <tr>\n",
       "      <th>9</th>\n",
       "      <td>CC1=CC=C(C=C1)CN2C(=CC(=N2)C(=O)N[C@H]3[C@]4(C...</td>\n",
       "      <td>MKSILDGLADTTFRTITTDLLYVGSNDIQYEDIKGDMASKLGYFPQ...</td>\n",
       "    </tr>\n",
       "    <tr>\n",
       "      <th>10</th>\n",
       "      <td>CC1=C(N(N=C1C(=O)NC23CC4CC(C2)CC(C4)C3)CCCCCO)...</td>\n",
       "      <td>MKSILDGLADTTFRTITTDLLYVGSNDIQYEDIKGDMASKLGYFPQ...</td>\n",
       "    </tr>\n",
       "    <tr>\n",
       "      <th>11</th>\n",
       "      <td>CCCCCC1=CC(=C(C(=C1)O)[C@@H]2C=C(CC[C@H]2C(=C)...</td>\n",
       "      <td>MKSILDGLADTTFRTITTDLLYVGSNDIQYEDIKGDMASKLGYFPQ...</td>\n",
       "    </tr>\n",
       "    <tr>\n",
       "      <th>12</th>\n",
       "      <td>CC1=CC[C@@H]2[C@@H](C1)C3=C(C=C(C=C3OC2(C)C)C(...</td>\n",
       "      <td>MEECWVTEIANGSKDGLDSNPMKDYMILSGPQKTAVAVLCTLLGLL...</td>\n",
       "    </tr>\n",
       "    <tr>\n",
       "      <th>13</th>\n",
       "      <td>CCCCCCC(C)(C)C1=CC(=C2[C@@H]3C[C@@H](CC[C@H]3[...</td>\n",
       "      <td>MEECWVTEIANGSKDGLDSNPMKDYMILSGPQKTAVAVLCTLLGLL...</td>\n",
       "    </tr>\n",
       "    <tr>\n",
       "      <th>14</th>\n",
       "      <td>CCCCCN1C=C(C2=CC=CC=C21)C(=O)C3C(C3(C)C)(C)C</td>\n",
       "      <td>MEECWVTEIANGSKDGLDSNPMKDYMILSGPQKTAVAVLCTLLGLL...</td>\n",
       "    </tr>\n",
       "    <tr>\n",
       "      <th>15</th>\n",
       "      <td>CC1=C(C2=C3N1[C@@H](COC3=CC=C2)CN4CCOCC4)C(=O)...</td>\n",
       "      <td>MEECWVTEIANGSKDGLDSNPMKDYMILSGPQKTAVAVLCTLLGLL...</td>\n",
       "    </tr>\n",
       "    <tr>\n",
       "      <th>16</th>\n",
       "      <td>CCCCCC1=CC(=C2[C@@H]3C=C(CC[C@H]3C(OC2=C1)(C)C...</td>\n",
       "      <td>MEECWVTEIANGSKDGLDSNPMKDYMILSGPQKTAVAVLCTLLGLL...</td>\n",
       "    </tr>\n",
       "    <tr>\n",
       "      <th>17</th>\n",
       "      <td>C[C@@H]([C@@H](CC1=CC=C(C=C1)Cl)C2=CC=CC(=C2)C...</td>\n",
       "      <td>MEECWVTEIANGSKDGLDSNPMKDYMILSGPQKTAVAVLCTLLGLL...</td>\n",
       "    </tr>\n",
       "    <tr>\n",
       "      <th>18</th>\n",
       "      <td>CC1=C(N(N=C1C(=O)NN2CCCCC2)C3=C(C=C(C=C3)Cl)Cl...</td>\n",
       "      <td>MEECWVTEIANGSKDGLDSNPMKDYMILSGPQKTAVAVLCTLLGLL...</td>\n",
       "    </tr>\n",
       "    <tr>\n",
       "      <th>19</th>\n",
       "      <td>CCC1=C(N(N=C1C(=O)NN2CCCCC2)C3=C(C=C(C=C3)Cl)C...</td>\n",
       "      <td>MEECWVTEIANGSKDGLDSNPMKDYMILSGPQKTAVAVLCTLLGLL...</td>\n",
       "    </tr>\n",
       "    <tr>\n",
       "      <th>20</th>\n",
       "      <td>CC1=C(C2=C(N1CCN3CCOCC3)C=C(C=C2)I)C(=O)C4=CC=...</td>\n",
       "      <td>MEECWVTEIANGSKDGLDSNPMKDYMILSGPQKTAVAVLCTLLGLL...</td>\n",
       "    </tr>\n",
       "    <tr>\n",
       "      <th>21</th>\n",
       "      <td>CC1=CC=C(C=C1)CN2C(=CC(=N2)C(=O)N[C@H]3[C@]4(C...</td>\n",
       "      <td>MEECWVTEIANGSKDGLDSNPMKDYMILSGPQKTAVAVLCTLLGLL...</td>\n",
       "    </tr>\n",
       "    <tr>\n",
       "      <th>22</th>\n",
       "      <td>CC1=C(N(N=C1C(=O)NC23CC4CC(C2)CC(C4)C3)CCCCCO)...</td>\n",
       "      <td>MEECWVTEIANGSKDGLDSNPMKDYMILSGPQKTAVAVLCTLLGLL...</td>\n",
       "    </tr>\n",
       "    <tr>\n",
       "      <th>23</th>\n",
       "      <td>CCCCCC1=CC(=C(C(=C1)O)[C@@H]2C=C(CC[C@H]2C(=C)...</td>\n",
       "      <td>MEECWVTEIANGSKDGLDSNPMKDYMILSGPQKTAVAVLCTLLGLL...</td>\n",
       "    </tr>\n",
       "  </tbody>\n",
       "</table>\n",
       "</div>"
      ],
      "text/plain": [
       "                                               SMILES  \\\n",
       "0   CC1=CC[C@@H]2[C@@H](C1)C3=C(C=C(C=C3OC2(C)C)C(...   \n",
       "1   CCCCCCC(C)(C)C1=CC(=C2[C@@H]3C[C@@H](CC[C@H]3[...   \n",
       "2        CCCCCN1C=C(C2=CC=CC=C21)C(=O)C3C(C3(C)C)(C)C   \n",
       "3   CC1=C(C2=C3N1[C@@H](COC3=CC=C2)CN4CCOCC4)C(=O)...   \n",
       "4   CCCCCC1=CC(=C2[C@@H]3C=C(CC[C@H]3C(OC2=C1)(C)C...   \n",
       "5   C[C@@H]([C@@H](CC1=CC=C(C=C1)Cl)C2=CC=CC(=C2)C...   \n",
       "6   CC1=C(N(N=C1C(=O)NN2CCCCC2)C3=C(C=C(C=C3)Cl)Cl...   \n",
       "7   CCC1=C(N(N=C1C(=O)NN2CCCCC2)C3=C(C=C(C=C3)Cl)C...   \n",
       "8   CC1=C(C2=C(N1CCN3CCOCC3)C=C(C=C2)I)C(=O)C4=CC=...   \n",
       "9   CC1=CC=C(C=C1)CN2C(=CC(=N2)C(=O)N[C@H]3[C@]4(C...   \n",
       "10  CC1=C(N(N=C1C(=O)NC23CC4CC(C2)CC(C4)C3)CCCCCO)...   \n",
       "11  CCCCCC1=CC(=C(C(=C1)O)[C@@H]2C=C(CC[C@H]2C(=C)...   \n",
       "12  CC1=CC[C@@H]2[C@@H](C1)C3=C(C=C(C=C3OC2(C)C)C(...   \n",
       "13  CCCCCCC(C)(C)C1=CC(=C2[C@@H]3C[C@@H](CC[C@H]3[...   \n",
       "14       CCCCCN1C=C(C2=CC=CC=C21)C(=O)C3C(C3(C)C)(C)C   \n",
       "15  CC1=C(C2=C3N1[C@@H](COC3=CC=C2)CN4CCOCC4)C(=O)...   \n",
       "16  CCCCCC1=CC(=C2[C@@H]3C=C(CC[C@H]3C(OC2=C1)(C)C...   \n",
       "17  C[C@@H]([C@@H](CC1=CC=C(C=C1)Cl)C2=CC=CC(=C2)C...   \n",
       "18  CC1=C(N(N=C1C(=O)NN2CCCCC2)C3=C(C=C(C=C3)Cl)Cl...   \n",
       "19  CCC1=C(N(N=C1C(=O)NN2CCCCC2)C3=C(C=C(C=C3)Cl)C...   \n",
       "20  CC1=C(C2=C(N1CCN3CCOCC3)C=C(C=C2)I)C(=O)C4=CC=...   \n",
       "21  CC1=CC=C(C=C1)CN2C(=CC(=N2)C(=O)N[C@H]3[C@]4(C...   \n",
       "22  CC1=C(N(N=C1C(=O)NC23CC4CC(C2)CC(C4)C3)CCCCCO)...   \n",
       "23  CCCCCC1=CC(=C(C(=C1)O)[C@@H]2C=C(CC[C@H]2C(=C)...   \n",
       "\n",
       "                                               TARGET  \n",
       "0   MKSILDGLADTTFRTITTDLLYVGSNDIQYEDIKGDMASKLGYFPQ...  \n",
       "1   MKSILDGLADTTFRTITTDLLYVGSNDIQYEDIKGDMASKLGYFPQ...  \n",
       "2   MKSILDGLADTTFRTITTDLLYVGSNDIQYEDIKGDMASKLGYFPQ...  \n",
       "3   MKSILDGLADTTFRTITTDLLYVGSNDIQYEDIKGDMASKLGYFPQ...  \n",
       "4   MKSILDGLADTTFRTITTDLLYVGSNDIQYEDIKGDMASKLGYFPQ...  \n",
       "5   MKSILDGLADTTFRTITTDLLYVGSNDIQYEDIKGDMASKLGYFPQ...  \n",
       "6   MKSILDGLADTTFRTITTDLLYVGSNDIQYEDIKGDMASKLGYFPQ...  \n",
       "7   MKSILDGLADTTFRTITTDLLYVGSNDIQYEDIKGDMASKLGYFPQ...  \n",
       "8   MKSILDGLADTTFRTITTDLLYVGSNDIQYEDIKGDMASKLGYFPQ...  \n",
       "9   MKSILDGLADTTFRTITTDLLYVGSNDIQYEDIKGDMASKLGYFPQ...  \n",
       "10  MKSILDGLADTTFRTITTDLLYVGSNDIQYEDIKGDMASKLGYFPQ...  \n",
       "11  MKSILDGLADTTFRTITTDLLYVGSNDIQYEDIKGDMASKLGYFPQ...  \n",
       "12  MEECWVTEIANGSKDGLDSNPMKDYMILSGPQKTAVAVLCTLLGLL...  \n",
       "13  MEECWVTEIANGSKDGLDSNPMKDYMILSGPQKTAVAVLCTLLGLL...  \n",
       "14  MEECWVTEIANGSKDGLDSNPMKDYMILSGPQKTAVAVLCTLLGLL...  \n",
       "15  MEECWVTEIANGSKDGLDSNPMKDYMILSGPQKTAVAVLCTLLGLL...  \n",
       "16  MEECWVTEIANGSKDGLDSNPMKDYMILSGPQKTAVAVLCTLLGLL...  \n",
       "17  MEECWVTEIANGSKDGLDSNPMKDYMILSGPQKTAVAVLCTLLGLL...  \n",
       "18  MEECWVTEIANGSKDGLDSNPMKDYMILSGPQKTAVAVLCTLLGLL...  \n",
       "19  MEECWVTEIANGSKDGLDSNPMKDYMILSGPQKTAVAVLCTLLGLL...  \n",
       "20  MEECWVTEIANGSKDGLDSNPMKDYMILSGPQKTAVAVLCTLLGLL...  \n",
       "21  MEECWVTEIANGSKDGLDSNPMKDYMILSGPQKTAVAVLCTLLGLL...  \n",
       "22  MEECWVTEIANGSKDGLDSNPMKDYMILSGPQKTAVAVLCTLLGLL...  \n",
       "23  MEECWVTEIANGSKDGLDSNPMKDYMILSGPQKTAVAVLCTLLGLL...  "
      ]
     },
     "execution_count": 14,
     "metadata": {},
     "output_type": "execute_result"
    }
   ],
   "source": [
    "df_inputs"
   ]
  },
  {
   "cell_type": "markdown",
   "id": "a1df278e",
   "metadata": {},
   "source": [
    "# 2. Binding Affinity Prediction"
   ]
  },
  {
   "cell_type": "markdown",
   "id": "67b9520e",
   "metadata": {},
   "source": [
    "## Data Loader"
   ]
  },
  {
   "cell_type": "code",
   "execution_count": 15,
   "id": "685b34c6",
   "metadata": {},
   "outputs": [],
   "source": [
    "def create_dataset(seqs_smi, seqs_prot):\n",
    "    smile_graph = {}\n",
    "    for smi in seqs_smi:\n",
    "        if not smi in smile_graph:\n",
    "            g = smile_to_graph(smi)\n",
    "            smile_graph[smi] = g\n",
    "        \n",
    "    XD = np.asarray(seqs_smi)\n",
    "    XT = np.asarray([seq_cat(aa) for aa in seqs_prot])\n",
    "    \n",
    "    name = 'tmp'\n",
    "    data = TestbedDataset(\n",
    "        root='data',\n",
    "        dataset=name,\n",
    "        xd=XD,\n",
    "        xt=XT,\n",
    "        smile_graph=smile_graph\n",
    "    )\n",
    "    return data"
   ]
  },
  {
   "cell_type": "code",
   "execution_count": 16,
   "id": "41729e78",
   "metadata": {},
   "outputs": [
    {
     "name": "stdout",
     "output_type": "stream",
     "text": [
      "Preparing data in Pytorch Format: 1/24\n",
      "Preparing data in Pytorch Format: 2/24\n",
      "Preparing data in Pytorch Format: 3/24\n",
      "Preparing data in Pytorch Format: 4/24\n",
      "Preparing data in Pytorch Format: 5/24\n",
      "Preparing data in Pytorch Format: 6/24\n",
      "Preparing data in Pytorch Format: 7/24\n",
      "Preparing data in Pytorch Format: 8/24\n",
      "Preparing data in Pytorch Format: 9/24\n",
      "Preparing data in Pytorch Format: 10/24\n",
      "Preparing data in Pytorch Format: 11/24\n",
      "Preparing data in Pytorch Format: 12/24\n",
      "Preparing data in Pytorch Format: 13/24\n",
      "Preparing data in Pytorch Format: 14/24\n",
      "Preparing data in Pytorch Format: 15/24\n",
      "Preparing data in Pytorch Format: 16/24\n",
      "Preparing data in Pytorch Format: 17/24\n",
      "Preparing data in Pytorch Format: 18/24\n",
      "Preparing data in Pytorch Format: 19/24\n",
      "Preparing data in Pytorch Format: 20/24\n",
      "Preparing data in Pytorch Format: 21/24\n",
      "Preparing data in Pytorch Format: 22/24\n",
      "Preparing data in Pytorch Format: 23/24\n",
      "Preparing data in Pytorch Format: 24/24\n"
     ]
    }
   ],
   "source": [
    "test_data = create_dataset(df_inputs['SMILES'], df_inputs['TARGET'])"
   ]
  },
  {
   "cell_type": "code",
   "execution_count": 17,
   "id": "e822320e",
   "metadata": {},
   "outputs": [],
   "source": [
    "test_loader = torch.utils.data.DataLoader(\n",
    "    test_data,\n",
    "    batch_size=1,\n",
    "    shuffle=False,\n",
    "    collate_fn=collate\n",
    ")"
   ]
  },
  {
   "cell_type": "markdown",
   "id": "6a64a464",
   "metadata": {},
   "source": [
    "## Evaluate the model"
   ]
  },
  {
   "cell_type": "code",
   "execution_count": 18,
   "id": "c79cad62",
   "metadata": {},
   "outputs": [
    {
     "data": {
      "application/vnd.jupyter.widget-view+json": {
       "model_id": "18afa362793d4078a1a5d67fcc28e7b0",
       "version_major": 2,
       "version_minor": 0
      },
      "text/plain": [
       "Testing:   0%|          | 0/24 [00:00<?, ?it/s]"
      ]
     },
     "metadata": {},
     "output_type": "display_data"
    }
   ],
   "source": [
    "predictions = []\n",
    "\n",
    "with torch.no_grad():\n",
    "    for data in tqdm(test_loader, desc='Testing'):\n",
    "        y = model(data.to(device)).item()\n",
    "        predictions.append(y)"
   ]
  },
  {
   "cell_type": "code",
   "execution_count": 19,
   "id": "68f539ae",
   "metadata": {},
   "outputs": [],
   "source": [
    "df_res = df_inputs.copy()\n",
    "df_res.loc[:,'AFFINITY'] = predictions"
   ]
  },
  {
   "cell_type": "code",
   "execution_count": 20,
   "id": "5c58fee0",
   "metadata": {},
   "outputs": [
    {
     "data": {
      "text/html": [
       "<div>\n",
       "<style scoped>\n",
       "    .dataframe tbody tr th:only-of-type {\n",
       "        vertical-align: middle;\n",
       "    }\n",
       "\n",
       "    .dataframe tbody tr th {\n",
       "        vertical-align: top;\n",
       "    }\n",
       "\n",
       "    .dataframe thead th {\n",
       "        text-align: right;\n",
       "    }\n",
       "</style>\n",
       "<table border=\"1\" class=\"dataframe\">\n",
       "  <thead>\n",
       "    <tr style=\"text-align: right;\">\n",
       "      <th></th>\n",
       "      <th>SMILES</th>\n",
       "      <th>TARGET</th>\n",
       "      <th>AFFINITY</th>\n",
       "    </tr>\n",
       "  </thead>\n",
       "  <tbody>\n",
       "    <tr>\n",
       "      <th>0</th>\n",
       "      <td>CC1=CC[C@@H]2[C@@H](C1)C3=C(C=C(C=C3OC2(C)C)C(...</td>\n",
       "      <td>MKSILDGLADTTFRTITTDLLYVGSNDIQYEDIKGDMASKLGYFPQ...</td>\n",
       "      <td>8.694099</td>\n",
       "    </tr>\n",
       "    <tr>\n",
       "      <th>1</th>\n",
       "      <td>CCCCCCC(C)(C)C1=CC(=C2[C@@H]3C[C@@H](CC[C@H]3[...</td>\n",
       "      <td>MKSILDGLADTTFRTITTDLLYVGSNDIQYEDIKGDMASKLGYFPQ...</td>\n",
       "      <td>8.453372</td>\n",
       "    </tr>\n",
       "    <tr>\n",
       "      <th>2</th>\n",
       "      <td>CCCCCN1C=C(C2=CC=CC=C21)C(=O)C3C(C3(C)C)(C)C</td>\n",
       "      <td>MKSILDGLADTTFRTITTDLLYVGSNDIQYEDIKGDMASKLGYFPQ...</td>\n",
       "      <td>8.217188</td>\n",
       "    </tr>\n",
       "    <tr>\n",
       "      <th>3</th>\n",
       "      <td>CC1=C(C2=C3N1[C@@H](COC3=CC=C2)CN4CCOCC4)C(=O)...</td>\n",
       "      <td>MKSILDGLADTTFRTITTDLLYVGSNDIQYEDIKGDMASKLGYFPQ...</td>\n",
       "      <td>7.315071</td>\n",
       "    </tr>\n",
       "    <tr>\n",
       "      <th>4</th>\n",
       "      <td>CCCCCC1=CC(=C2[C@@H]3C=C(CC[C@H]3C(OC2=C1)(C)C...</td>\n",
       "      <td>MKSILDGLADTTFRTITTDLLYVGSNDIQYEDIKGDMASKLGYFPQ...</td>\n",
       "      <td>8.503256</td>\n",
       "    </tr>\n",
       "    <tr>\n",
       "      <th>5</th>\n",
       "      <td>C[C@@H]([C@@H](CC1=CC=C(C=C1)Cl)C2=CC=CC(=C2)C...</td>\n",
       "      <td>MKSILDGLADTTFRTITTDLLYVGSNDIQYEDIKGDMASKLGYFPQ...</td>\n",
       "      <td>8.355811</td>\n",
       "    </tr>\n",
       "    <tr>\n",
       "      <th>6</th>\n",
       "      <td>CC1=C(N(N=C1C(=O)NN2CCCCC2)C3=C(C=C(C=C3)Cl)Cl...</td>\n",
       "      <td>MKSILDGLADTTFRTITTDLLYVGSNDIQYEDIKGDMASKLGYFPQ...</td>\n",
       "      <td>8.088691</td>\n",
       "    </tr>\n",
       "    <tr>\n",
       "      <th>7</th>\n",
       "      <td>CCC1=C(N(N=C1C(=O)NN2CCCCC2)C3=C(C=C(C=C3)Cl)C...</td>\n",
       "      <td>MKSILDGLADTTFRTITTDLLYVGSNDIQYEDIKGDMASKLGYFPQ...</td>\n",
       "      <td>8.282920</td>\n",
       "    </tr>\n",
       "    <tr>\n",
       "      <th>8</th>\n",
       "      <td>CC1=C(C2=C(N1CCN3CCOCC3)C=C(C=C2)I)C(=O)C4=CC=...</td>\n",
       "      <td>MKSILDGLADTTFRTITTDLLYVGSNDIQYEDIKGDMASKLGYFPQ...</td>\n",
       "      <td>7.863091</td>\n",
       "    </tr>\n",
       "    <tr>\n",
       "      <th>9</th>\n",
       "      <td>CC1=CC=C(C=C1)CN2C(=CC(=N2)C(=O)N[C@H]3[C@]4(C...</td>\n",
       "      <td>MKSILDGLADTTFRTITTDLLYVGSNDIQYEDIKGDMASKLGYFPQ...</td>\n",
       "      <td>8.430277</td>\n",
       "    </tr>\n",
       "    <tr>\n",
       "      <th>10</th>\n",
       "      <td>CC1=C(N(N=C1C(=O)NC23CC4CC(C2)CC(C4)C3)CCCCCO)...</td>\n",
       "      <td>MKSILDGLADTTFRTITTDLLYVGSNDIQYEDIKGDMASKLGYFPQ...</td>\n",
       "      <td>7.374292</td>\n",
       "    </tr>\n",
       "    <tr>\n",
       "      <th>11</th>\n",
       "      <td>CCCCCC1=CC(=C(C(=C1)O)[C@@H]2C=C(CC[C@H]2C(=C)...</td>\n",
       "      <td>MKSILDGLADTTFRTITTDLLYVGSNDIQYEDIKGDMASKLGYFPQ...</td>\n",
       "      <td>8.168678</td>\n",
       "    </tr>\n",
       "    <tr>\n",
       "      <th>12</th>\n",
       "      <td>CC1=CC[C@@H]2[C@@H](C1)C3=C(C=C(C=C3OC2(C)C)C(...</td>\n",
       "      <td>MEECWVTEIANGSKDGLDSNPMKDYMILSGPQKTAVAVLCTLLGLL...</td>\n",
       "      <td>9.281351</td>\n",
       "    </tr>\n",
       "    <tr>\n",
       "      <th>13</th>\n",
       "      <td>CCCCCCC(C)(C)C1=CC(=C2[C@@H]3C[C@@H](CC[C@H]3[...</td>\n",
       "      <td>MEECWVTEIANGSKDGLDSNPMKDYMILSGPQKTAVAVLCTLLGLL...</td>\n",
       "      <td>8.984634</td>\n",
       "    </tr>\n",
       "    <tr>\n",
       "      <th>14</th>\n",
       "      <td>CCCCCN1C=C(C2=CC=CC=C21)C(=O)C3C(C3(C)C)(C)C</td>\n",
       "      <td>MEECWVTEIANGSKDGLDSNPMKDYMILSGPQKTAVAVLCTLLGLL...</td>\n",
       "      <td>6.502238</td>\n",
       "    </tr>\n",
       "    <tr>\n",
       "      <th>15</th>\n",
       "      <td>CC1=C(C2=C3N1[C@@H](COC3=CC=C2)CN4CCOCC4)C(=O)...</td>\n",
       "      <td>MEECWVTEIANGSKDGLDSNPMKDYMILSGPQKTAVAVLCTLLGLL...</td>\n",
       "      <td>5.918923</td>\n",
       "    </tr>\n",
       "    <tr>\n",
       "      <th>16</th>\n",
       "      <td>CCCCCC1=CC(=C2[C@@H]3C=C(CC[C@H]3C(OC2=C1)(C)C...</td>\n",
       "      <td>MEECWVTEIANGSKDGLDSNPMKDYMILSGPQKTAVAVLCTLLGLL...</td>\n",
       "      <td>6.175697</td>\n",
       "    </tr>\n",
       "    <tr>\n",
       "      <th>17</th>\n",
       "      <td>C[C@@H]([C@@H](CC1=CC=C(C=C1)Cl)C2=CC=CC(=C2)C...</td>\n",
       "      <td>MEECWVTEIANGSKDGLDSNPMKDYMILSGPQKTAVAVLCTLLGLL...</td>\n",
       "      <td>8.787254</td>\n",
       "    </tr>\n",
       "    <tr>\n",
       "      <th>18</th>\n",
       "      <td>CC1=C(N(N=C1C(=O)NN2CCCCC2)C3=C(C=C(C=C3)Cl)Cl...</td>\n",
       "      <td>MEECWVTEIANGSKDGLDSNPMKDYMILSGPQKTAVAVLCTLLGLL...</td>\n",
       "      <td>7.372607</td>\n",
       "    </tr>\n",
       "    <tr>\n",
       "      <th>19</th>\n",
       "      <td>CCC1=C(N(N=C1C(=O)NN2CCCCC2)C3=C(C=C(C=C3)Cl)C...</td>\n",
       "      <td>MEECWVTEIANGSKDGLDSNPMKDYMILSGPQKTAVAVLCTLLGLL...</td>\n",
       "      <td>5.823127</td>\n",
       "    </tr>\n",
       "    <tr>\n",
       "      <th>20</th>\n",
       "      <td>CC1=C(C2=C(N1CCN3CCOCC3)C=C(C=C2)I)C(=O)C4=CC=...</td>\n",
       "      <td>MEECWVTEIANGSKDGLDSNPMKDYMILSGPQKTAVAVLCTLLGLL...</td>\n",
       "      <td>5.170385</td>\n",
       "    </tr>\n",
       "    <tr>\n",
       "      <th>21</th>\n",
       "      <td>CC1=CC=C(C=C1)CN2C(=CC(=N2)C(=O)N[C@H]3[C@]4(C...</td>\n",
       "      <td>MEECWVTEIANGSKDGLDSNPMKDYMILSGPQKTAVAVLCTLLGLL...</td>\n",
       "      <td>8.478955</td>\n",
       "    </tr>\n",
       "    <tr>\n",
       "      <th>22</th>\n",
       "      <td>CC1=C(N(N=C1C(=O)NC23CC4CC(C2)CC(C4)C3)CCCCCO)...</td>\n",
       "      <td>MEECWVTEIANGSKDGLDSNPMKDYMILSGPQKTAVAVLCTLLGLL...</td>\n",
       "      <td>7.904521</td>\n",
       "    </tr>\n",
       "    <tr>\n",
       "      <th>23</th>\n",
       "      <td>CCCCCC1=CC(=C(C(=C1)O)[C@@H]2C=C(CC[C@H]2C(=C)...</td>\n",
       "      <td>MEECWVTEIANGSKDGLDSNPMKDYMILSGPQKTAVAVLCTLLGLL...</td>\n",
       "      <td>6.751972</td>\n",
       "    </tr>\n",
       "  </tbody>\n",
       "</table>\n",
       "</div>"
      ],
      "text/plain": [
       "                                               SMILES  \\\n",
       "0   CC1=CC[C@@H]2[C@@H](C1)C3=C(C=C(C=C3OC2(C)C)C(...   \n",
       "1   CCCCCCC(C)(C)C1=CC(=C2[C@@H]3C[C@@H](CC[C@H]3[...   \n",
       "2        CCCCCN1C=C(C2=CC=CC=C21)C(=O)C3C(C3(C)C)(C)C   \n",
       "3   CC1=C(C2=C3N1[C@@H](COC3=CC=C2)CN4CCOCC4)C(=O)...   \n",
       "4   CCCCCC1=CC(=C2[C@@H]3C=C(CC[C@H]3C(OC2=C1)(C)C...   \n",
       "5   C[C@@H]([C@@H](CC1=CC=C(C=C1)Cl)C2=CC=CC(=C2)C...   \n",
       "6   CC1=C(N(N=C1C(=O)NN2CCCCC2)C3=C(C=C(C=C3)Cl)Cl...   \n",
       "7   CCC1=C(N(N=C1C(=O)NN2CCCCC2)C3=C(C=C(C=C3)Cl)C...   \n",
       "8   CC1=C(C2=C(N1CCN3CCOCC3)C=C(C=C2)I)C(=O)C4=CC=...   \n",
       "9   CC1=CC=C(C=C1)CN2C(=CC(=N2)C(=O)N[C@H]3[C@]4(C...   \n",
       "10  CC1=C(N(N=C1C(=O)NC23CC4CC(C2)CC(C4)C3)CCCCCO)...   \n",
       "11  CCCCCC1=CC(=C(C(=C1)O)[C@@H]2C=C(CC[C@H]2C(=C)...   \n",
       "12  CC1=CC[C@@H]2[C@@H](C1)C3=C(C=C(C=C3OC2(C)C)C(...   \n",
       "13  CCCCCCC(C)(C)C1=CC(=C2[C@@H]3C[C@@H](CC[C@H]3[...   \n",
       "14       CCCCCN1C=C(C2=CC=CC=C21)C(=O)C3C(C3(C)C)(C)C   \n",
       "15  CC1=C(C2=C3N1[C@@H](COC3=CC=C2)CN4CCOCC4)C(=O)...   \n",
       "16  CCCCCC1=CC(=C2[C@@H]3C=C(CC[C@H]3C(OC2=C1)(C)C...   \n",
       "17  C[C@@H]([C@@H](CC1=CC=C(C=C1)Cl)C2=CC=CC(=C2)C...   \n",
       "18  CC1=C(N(N=C1C(=O)NN2CCCCC2)C3=C(C=C(C=C3)Cl)Cl...   \n",
       "19  CCC1=C(N(N=C1C(=O)NN2CCCCC2)C3=C(C=C(C=C3)Cl)C...   \n",
       "20  CC1=C(C2=C(N1CCN3CCOCC3)C=C(C=C2)I)C(=O)C4=CC=...   \n",
       "21  CC1=CC=C(C=C1)CN2C(=CC(=N2)C(=O)N[C@H]3[C@]4(C...   \n",
       "22  CC1=C(N(N=C1C(=O)NC23CC4CC(C2)CC(C4)C3)CCCCCO)...   \n",
       "23  CCCCCC1=CC(=C(C(=C1)O)[C@@H]2C=C(CC[C@H]2C(=C)...   \n",
       "\n",
       "                                               TARGET  AFFINITY  \n",
       "0   MKSILDGLADTTFRTITTDLLYVGSNDIQYEDIKGDMASKLGYFPQ...  8.694099  \n",
       "1   MKSILDGLADTTFRTITTDLLYVGSNDIQYEDIKGDMASKLGYFPQ...  8.453372  \n",
       "2   MKSILDGLADTTFRTITTDLLYVGSNDIQYEDIKGDMASKLGYFPQ...  8.217188  \n",
       "3   MKSILDGLADTTFRTITTDLLYVGSNDIQYEDIKGDMASKLGYFPQ...  7.315071  \n",
       "4   MKSILDGLADTTFRTITTDLLYVGSNDIQYEDIKGDMASKLGYFPQ...  8.503256  \n",
       "5   MKSILDGLADTTFRTITTDLLYVGSNDIQYEDIKGDMASKLGYFPQ...  8.355811  \n",
       "6   MKSILDGLADTTFRTITTDLLYVGSNDIQYEDIKGDMASKLGYFPQ...  8.088691  \n",
       "7   MKSILDGLADTTFRTITTDLLYVGSNDIQYEDIKGDMASKLGYFPQ...  8.282920  \n",
       "8   MKSILDGLADTTFRTITTDLLYVGSNDIQYEDIKGDMASKLGYFPQ...  7.863091  \n",
       "9   MKSILDGLADTTFRTITTDLLYVGSNDIQYEDIKGDMASKLGYFPQ...  8.430277  \n",
       "10  MKSILDGLADTTFRTITTDLLYVGSNDIQYEDIKGDMASKLGYFPQ...  7.374292  \n",
       "11  MKSILDGLADTTFRTITTDLLYVGSNDIQYEDIKGDMASKLGYFPQ...  8.168678  \n",
       "12  MEECWVTEIANGSKDGLDSNPMKDYMILSGPQKTAVAVLCTLLGLL...  9.281351  \n",
       "13  MEECWVTEIANGSKDGLDSNPMKDYMILSGPQKTAVAVLCTLLGLL...  8.984634  \n",
       "14  MEECWVTEIANGSKDGLDSNPMKDYMILSGPQKTAVAVLCTLLGLL...  6.502238  \n",
       "15  MEECWVTEIANGSKDGLDSNPMKDYMILSGPQKTAVAVLCTLLGLL...  5.918923  \n",
       "16  MEECWVTEIANGSKDGLDSNPMKDYMILSGPQKTAVAVLCTLLGLL...  6.175697  \n",
       "17  MEECWVTEIANGSKDGLDSNPMKDYMILSGPQKTAVAVLCTLLGLL...  8.787254  \n",
       "18  MEECWVTEIANGSKDGLDSNPMKDYMILSGPQKTAVAVLCTLLGLL...  7.372607  \n",
       "19  MEECWVTEIANGSKDGLDSNPMKDYMILSGPQKTAVAVLCTLLGLL...  5.823127  \n",
       "20  MEECWVTEIANGSKDGLDSNPMKDYMILSGPQKTAVAVLCTLLGLL...  5.170385  \n",
       "21  MEECWVTEIANGSKDGLDSNPMKDYMILSGPQKTAVAVLCTLLGLL...  8.478955  \n",
       "22  MEECWVTEIANGSKDGLDSNPMKDYMILSGPQKTAVAVLCTLLGLL...  7.904521  \n",
       "23  MEECWVTEIANGSKDGLDSNPMKDYMILSGPQKTAVAVLCTLLGLL...  6.751972  "
      ]
     },
     "execution_count": 20,
     "metadata": {},
     "output_type": "execute_result"
    }
   ],
   "source": [
    "df_res"
   ]
  },
  {
   "cell_type": "markdown",
   "id": "02edbb02",
   "metadata": {},
   "source": [
    "# 3. Target-aware Drug Generation"
   ]
  },
  {
   "cell_type": "code",
   "execution_count": 21,
   "id": "8d65c2db",
   "metadata": {},
   "outputs": [],
   "source": [
    "def create_dataset2(seqs_smi, seqs_prot, affinity):\n",
    "    smile_graph = {}\n",
    "    for smi in seqs_smi:\n",
    "        if not smi in smile_graph:\n",
    "            g = smile_to_graph(smi)\n",
    "            smile_graph[smi] = g\n",
    "        \n",
    "    XD = np.asarray(seqs_smi)\n",
    "    XT = np.asarray([seq_cat(aa) for aa in seqs_prot])\n",
    "    Y = np.asarray(affinity)\n",
    "    \n",
    "    name = 'tmp'\n",
    "    data = TestbedDataset2(\n",
    "        root='data',\n",
    "        dataset=name,\n",
    "        xd=XD,\n",
    "        xt=XT,\n",
    "        y=Y,\n",
    "        smile_graph=smile_graph\n",
    "    )\n",
    "    return data"
   ]
  },
  {
   "cell_type": "code",
   "execution_count": 22,
   "id": "5d780a78",
   "metadata": {},
   "outputs": [
    {
     "name": "stdout",
     "output_type": "stream",
     "text": [
      "Preparing data in Pytorch Format: 1/24\n",
      "Preparing data in Pytorch Format: 2/24\n",
      "Preparing data in Pytorch Format: 3/24\n",
      "Preparing data in Pytorch Format: 4/24\n",
      "Preparing data in Pytorch Format: 5/24\n",
      "Preparing data in Pytorch Format: 6/24\n",
      "Preparing data in Pytorch Format: 7/24\n",
      "Preparing data in Pytorch Format: 8/24\n",
      "Preparing data in Pytorch Format: 9/24\n",
      "Preparing data in Pytorch Format: 10/24\n",
      "Preparing data in Pytorch Format: 11/24\n",
      "Preparing data in Pytorch Format: 12/24\n",
      "Preparing data in Pytorch Format: 13/24\n",
      "Preparing data in Pytorch Format: 14/24\n",
      "Preparing data in Pytorch Format: 15/24\n",
      "Preparing data in Pytorch Format: 16/24\n",
      "Preparing data in Pytorch Format: 17/24\n",
      "Preparing data in Pytorch Format: 18/24\n",
      "Preparing data in Pytorch Format: 19/24\n",
      "Preparing data in Pytorch Format: 20/24\n",
      "Preparing data in Pytorch Format: 21/24\n",
      "Preparing data in Pytorch Format: 22/24\n",
      "Preparing data in Pytorch Format: 23/24\n",
      "Preparing data in Pytorch Format: 24/24\n"
     ]
    }
   ],
   "source": [
    "test_data = create_dataset2(df_res['SMILES'], df_res['TARGET'], df_res['AFFINITY'])"
   ]
  },
  {
   "cell_type": "code",
   "execution_count": 23,
   "id": "661cbf65",
   "metadata": {},
   "outputs": [],
   "source": [
    "test_loader = torch.utils.data.DataLoader(\n",
    "    test_data,\n",
    "    batch_size=1,\n",
    "    shuffle=False,\n",
    "    collate_fn=collate\n",
    ")"
   ]
  },
  {
   "cell_type": "markdown",
   "id": "5b770f74",
   "metadata": {},
   "source": [
    "## Evaluate the model"
   ]
  },
  {
   "cell_type": "code",
   "execution_count": 24,
   "id": "4f288fe3",
   "metadata": {},
   "outputs": [
    {
     "data": {
      "application/vnd.jupyter.widget-view+json": {
       "model_id": "05cf6661b10b46d8934b26178b6e644d",
       "version_major": 2,
       "version_minor": 0
      },
      "text/plain": [
       "Testing:   0%|          | 0/24 [00:00<?, ?it/s]"
      ]
     },
     "metadata": {},
     "output_type": "display_data"
    }
   ],
   "source": [
    "generated = []\n",
    "\n",
    "with torch.no_grad():\n",
    "    for data in tqdm(test_loader, desc='Testing'):\n",
    "        y = tokenizer.get_text(model.generate(data.to(device)))\n",
    "        generated.append(y[0])"
   ]
  },
  {
   "cell_type": "code",
   "execution_count": 25,
   "id": "cbd72868",
   "metadata": {},
   "outputs": [
    {
     "data": {
      "text/plain": [
       "['CC(=O)NCCCCCCNC(=O)[C@H](Cc1ccc(O)cc1)NC(=O)N1CCC(N2CCCC2)CC1)C(=O)O',\n",
       " 'CCCCCCC(C)(C)c1ccc([C@@H]2C[C@H](O)CC[C@H]2CCCO)c(O)c1',\n",
       " 'CC(C)CCC(C)(C)c1ccc(N2CCN(CCC(=O)NC(C)C)CC2)cc1',\n",
       " 'O=C(CN1CCCC2(CCN(Cc3ccccc3)CC2)CC1)c1ccc(F)cc1',\n",
       " 'CC(C)CCC(C)(C)c1ccc(N2CCN(CCC(=O)NC(C)C)CC2)cc1',\n",
       " 'CC(C)(C)C(=O)CN1C(=O)N(CC(=O)Nc2cccc(-c3nc(=O)[nH][nH]3)c2)C(=O)N(C2CCCCCC2)c2ccccc21',\n",
       " 'O=C(NCCCc1ccccc1)NCC1CCN(CCCc2ccccc2)CC1',\n",
       " 'CC(C)CCN1CCC(NC(=O)N(C)Cc2ccccc2)C(=O)Nc2cccnc2)CC1',\n",
       " 'COc1cccc(OC)c1CNC(=O)CSc1nc2ccccc2n1C',\n",
       " 'Cc1cc(C)[nH]c2c1C(=O)NCCCCCNC(=O)CCSc1ccccc1',\n",
       " 'CC1(C)CC(N)=C(CN)NC(=O)NCCCOc2ccc(S(=O)(=O)N3CCCCC3)cc2)C1',\n",
       " 'CC(C)CCC(C)(C)c1ccc(N2CCN(CCC(=O)NC(C)C)CC2)cc1',\n",
       " 'CC(C)CCN1CCC(NC(=O)N(CC(=O)Nc2ccccc2)c2ccc(Cl)cc2)CC1',\n",
       " 'CC(C)CC(CC)C1CCN(CC(=O)N(C)Cc2ccc(N=C(C)C)cc2)C(=O)N(C2CCCCC2)c2ccccc21',\n",
       " 'CCCCCCC(C)(C)c1ccc([C@@H]2C[C@H](O)CC[C@H]2CCCO)c(O)c1',\n",
       " 'O=C(CN1CCCC(Cc2ccccc2)CC1)Nc1ccc(N2CCCC2)cc1',\n",
       " 'CC(C)CC(=O)N[C@H](C(=O)N[C@H](C(=O)N[C@@H](CC(C)C)[C@@H](O)CC(=O)O)C(=O)N[C@@H](Cc1ccccc1)C(=O)O)[C@@H](C)O',\n",
       " 'CC(C)(C)C(=O)CN1C(=O)N(CC(=O)Nc2cccc(-c3nc(=O)[nH][nH]3)c2)C(=O)N(C2CCCCCC2)c2ccccc21',\n",
       " 'O=C(NCCC12CC3CC(CC(C3)C1)C2)c1cc(CN2CCCCC2)ccc1Cl',\n",
       " 'CC(C)CCN1CCC(NC(=O)N(C)Cc2ccccc2)C(=O)Nc2ccncc2)CC1',\n",
       " 'COc1ccc(C(=O)NCCn2c(CN3CCN(C)CC3)c3ccccc3c3c(Cl)c(OC)cc32)cc1',\n",
       " 'Cc1cc(C)c2cccc(OC)c2n1C(=O)NCCN(C)CCc1ccc(OC)cc1',\n",
       " 'C=CC[C@H]1CN(CCOC(=O)C[C@]2(C)CCCNC(=O)[C@H](COP(=O)(O)O)C(=O)N[C@@H](Cc3ccc(O)cc3)C(=O)O)C2)CCCC1',\n",
       " 'CC(C)CC(=O)N[C@H](C(=O)N[C@H](C(=O)N[C@@H](CC(C)C)[C@@H](O)CC(=O)O)C(=O)N[C@@H](Cc1ccccc1)C(=O)O)[C@@H](C)O']"
      ]
     },
     "execution_count": 25,
     "metadata": {},
     "output_type": "execute_result"
    }
   ],
   "source": [
    "generated"
   ]
  },
  {
   "cell_type": "code",
   "execution_count": null,
   "id": "63e3122e",
   "metadata": {},
   "outputs": [],
   "source": []
  }
 ],
 "metadata": {
  "kernelspec": {
   "display_name": "Python 3 (ipykernel)",
   "language": "python",
   "name": "python3"
  },
  "language_info": {
   "codemirror_mode": {
    "name": "ipython",
    "version": 3
   },
   "file_extension": ".py",
   "mimetype": "text/x-python",
   "name": "python",
   "nbconvert_exporter": "python",
   "pygments_lexer": "ipython3",
   "version": "3.8.20"
  }
 },
 "nbformat": 4,
 "nbformat_minor": 5
}
